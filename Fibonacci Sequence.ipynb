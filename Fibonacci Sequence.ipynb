{
 "cells": [
  {
   "cell_type": "markdown",
   "id": "bec94437",
   "metadata": {},
   "source": [
    "# Fibonacci Sequence"
   ]
  },
  {
   "cell_type": "markdown",
   "id": "48188e9a",
   "metadata": {},
   "source": [
    "### Print first n fibonacci sequence numbers"
   ]
  },
  {
   "cell_type": "code",
   "execution_count": 47,
   "id": "78638285",
   "metadata": {},
   "outputs": [
    {
     "data": {
      "text/plain": [
       "[0, 1, 1, 2, 3, 5, 8, 13, 21, 34]"
      ]
     },
     "execution_count": 47,
     "metadata": {},
     "output_type": "execute_result"
    }
   ],
   "source": [
    "def fibseq(n):\n",
    "    fibs = [0,1]\n",
    "    for i in range(2,n):\n",
    "        x = fibs[i-1]+fibs[i-2]\n",
    "        fibs.append(x)\n",
    "    return fibs\n",
    "fibseq(10)"
   ]
  },
  {
   "cell_type": "markdown",
   "id": "cb2b8918",
   "metadata": {},
   "source": [
    "### Find nth number in sequence"
   ]
  },
  {
   "cell_type": "code",
   "execution_count": 46,
   "id": "01793e7f",
   "metadata": {},
   "outputs": [
    {
     "data": {
      "text/plain": [
       "1.618033988749895"
      ]
     },
     "execution_count": 46,
     "metadata": {},
     "output_type": "execute_result"
    }
   ],
   "source": [
    "phi = (1+5**(1/2))/2\n",
    "phi #\"Golden ratio\""
   ]
  },
  {
   "cell_type": "code",
   "execution_count": 27,
   "id": "7fe706a2",
   "metadata": {},
   "outputs": [
    {
     "data": {
      "text/plain": [
       "34"
      ]
     },
     "execution_count": 27,
     "metadata": {},
     "output_type": "execute_result"
    }
   ],
   "source": [
    "def NthFibNum(n):\n",
    "    phi = (1+5**(1/2))/2\n",
    "    x = ((phi**n)-((1-phi)**n))/(5**(1/2))\n",
    "    return int(x)\n",
    "NfibNum(9)"
   ]
  },
  {
   "cell_type": "markdown",
   "id": "c79a6f0b",
   "metadata": {},
   "source": [
    "### Is x in sequence"
   ]
  },
  {
   "cell_type": "code",
   "execution_count": 45,
   "id": "1df0bc85",
   "metadata": {},
   "outputs": [
    {
     "name": "stdout",
     "output_type": "stream",
     "text": [
      "7: False\n",
      "8: True\n"
     ]
    }
   ],
   "source": [
    "def isinfib(x):\n",
    "    x1 = (5*x*x+4)**(1/2)\n",
    "    x2 = (5*x*x-4)**(1/2)\n",
    "    if True in [x1.is_integer(),x2.is_integer()]:\n",
    "        return True\n",
    "    return False\n",
    "print(f\"7: {isinfib(7)}\")\n",
    "print(f\"8: {isinfib(8)}\")"
   ]
  }
 ],
 "metadata": {
  "kernelspec": {
   "display_name": "Python 3",
   "language": "python",
   "name": "python3"
  },
  "language_info": {
   "codemirror_mode": {
    "name": "ipython",
    "version": 3
   },
   "file_extension": ".py",
   "mimetype": "text/x-python",
   "name": "python",
   "nbconvert_exporter": "python",
   "pygments_lexer": "ipython3",
   "version": "3.8.8"
  }
 },
 "nbformat": 4,
 "nbformat_minor": 5
}
